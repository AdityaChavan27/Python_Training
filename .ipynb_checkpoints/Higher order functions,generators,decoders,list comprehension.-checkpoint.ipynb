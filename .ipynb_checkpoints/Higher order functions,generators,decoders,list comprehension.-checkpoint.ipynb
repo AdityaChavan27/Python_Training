{
 "cells": [
  {
   "cell_type": "code",
   "execution_count": 5,
   "metadata": {},
   "outputs": [
    {
     "name": "stdout",
     "output_type": "stream",
     "text": [
      "[7, 14, 28, 35, 49, 56, 70, 77, 91, 98]\n"
     ]
    }
   ],
   "source": [
    "\"\"\"\n",
    "1.\tWrite a program to Python find the values which is not divisible\n",
    "3 but is should be a multiple of 7. Make sure to use only higher order function.\n",
    "\"\"\"\n",
    "z=filter(lambda x: x%3!=0 and x%7==0,range(1,100))\n",
    "print(list(z))"
   ]
  },
  {
   "cell_type": "code",
   "execution_count": 34,
   "metadata": {},
   "outputs": [
    {
     "name": "stdout",
     "output_type": "stream",
     "text": [
      "[1, 4, 9, 16, 25]\n"
     ]
    }
   ],
   "source": [
    "\"\"\"\n",
    "2. \tWrite a program in Python to  multiple the element of list by itself \n",
    "using traditional function and pass the function to map to complete the operation.\n",
    "\"\"\"\n",
    "\n",
    "def multiple(n):\n",
    "       return n*n\n",
    "numbers=1,2,3,4,5\n",
    "z=list(map(multiple,numbers))\n",
    "print(z)"
   ]
  },
  {
   "cell_type": "code",
   "execution_count": 36,
   "metadata": {},
   "outputs": [
    {
     "name": "stdout",
     "output_type": "stream",
     "text": [
      "['C', 'S', 'A']\n"
     ]
    }
   ],
   "source": [
    "\"\"\"\n",
    "3. \tWrite a program to Python find out the character in a string which is uppercase using list comprehension.\n",
    "\"\"\"\n",
    "s=\"ConSultAdd\"\n",
    "l1=[i for i in s if i.isupper()]\n",
    "print(l1)"
   ]
  },
  {
   "cell_type": "code",
   "execution_count": 39,
   "metadata": {},
   "outputs": [
    {
     "name": "stdout",
     "output_type": "stream",
     "text": [
      "{'Smit': 'CSE', 'Jaya': 'Networking', 'Rayyan': 'Operating System'}\n"
     ]
    }
   ],
   "source": [
    "\"\"\"\n",
    "4. \tWrite a program to construct a dictionary from the two lists containing the names of students \n",
    "and their corresponding subjects. The dictionary should maps the students with their respective subjects.\n",
    "Let’s see how to do this using for loops and dictionary comprehension. HINT-Use Zip function also\n",
    "Student = ['Smit', 'Jaya', 'Rayyan']\t\n",
    "capital = ['CSE', 'Networking', 'Operating System']\n",
    "\"\"\"\n",
    "student = ['Smit', 'Jaya', 'Rayyan']\n",
    "capital = ['CSE', 'Networking', 'Operating System']\n",
    "d=dict()\n",
    "for i,j in zip(student,capital):\n",
    "    d[i]=j\n",
    "print(d)\n"
   ]
  },
  {
   "cell_type": "code",
   "execution_count": 43,
   "metadata": {},
   "outputs": [
    {
     "name": "stdout",
     "output_type": "stream",
     "text": [
      "{'Smit': 'CSE', 'Jaya': 'Networking', 'Rayyan': 'Operating System'}\n"
     ]
    }
   ],
   "source": [
    "student = ['Smit', 'Jaya', 'Rayyan']\n",
    "capital = ['CSE', 'Networking', 'Operating System']\n",
    "d=dict()\n",
    "d={i:j for i,j in zip(student,capital)}\n",
    "print(d)"
   ]
  },
  {
   "cell_type": "code",
   "execution_count": null,
   "metadata": {},
   "outputs": [],
   "source": [
    "\"\"\"\n",
    "5. \tLearn More about Yield, next and Generators\n",
    "\"\"\"\n",
    "\n",
    "Generators: It allows to write a function that can send back a value and later resume to pick up from where it is left off.\n",
    "            it allows to generate a sequence of values over time.\n",
    "\n",
    "yield statement: it helps to generate sequence of values one by one (ie as you need them) unlike functions which creats whole \n",
    "                 set of values wasting the memory.\n",
    "        \n",
    "next statement: As you call the next method it generates values one by one."
   ]
  },
  {
   "cell_type": "code",
   "execution_count": 20,
   "metadata": {},
   "outputs": [],
   "source": [
    "\"\"\"\n",
    "6. \tWrite a program in Python using generators to reverse the string. Input String = “Consultadd Training”\n",
    "\"\"\"\n",
    "\n",
    "def reverse_str(s):\n",
    "    for i in range(1,len(s)+1):\n",
    "        yield s[-i]\n",
    "        "
   ]
  },
  {
   "cell_type": "code",
   "execution_count": 21,
   "metadata": {},
   "outputs": [],
   "source": [
    "z=reverse_str(\"Consultadd Training\")\n"
   ]
  },
  {
   "cell_type": "code",
   "execution_count": 29,
   "metadata": {},
   "outputs": [
    {
     "ename": "StopIteration",
     "evalue": "",
     "output_type": "error",
     "traceback": [
      "\u001b[1;31m---------------------------------------------------------------------------\u001b[0m",
      "\u001b[1;31mStopIteration\u001b[0m                             Traceback (most recent call last)",
      "\u001b[1;32m<ipython-input-29-cf9ac561a401>\u001b[0m in \u001b[0;36m<module>\u001b[1;34m()\u001b[0m\n\u001b[1;32m----> 1\u001b[1;33m \u001b[0mnext\u001b[0m\u001b[1;33m(\u001b[0m\u001b[0mz\u001b[0m\u001b[1;33m)\u001b[0m\u001b[1;33m\u001b[0m\u001b[0m\n\u001b[0m",
      "\u001b[1;31mStopIteration\u001b[0m: "
     ]
    }
   ],
   "source": [
    "next(z)"
   ]
  },
  {
   "cell_type": "code",
   "execution_count": 43,
   "metadata": {},
   "outputs": [],
   "source": [
    "\"\"\"\n",
    "7. \tWrite any example on decorators.\n",
    "\"\"\"\n",
    "\n",
    "def cool(original_func):\n",
    "    def super_cool():\n",
    "        print(\"Hello I am inside super cool\")\n",
    "     \n",
    "        original_func()\n",
    "    \n",
    "    return super_cool"
   ]
  },
  {
   "cell_type": "code",
   "execution_count": 44,
   "metadata": {},
   "outputs": [
    {
     "name": "stdout",
     "output_type": "stream",
     "text": [
      "Hello I am inside super cool\n",
      "I also want to get printed\n"
     ]
    }
   ],
   "source": [
    "@cool\n",
    "def func_decorator():\n",
    "    print(\"I also want to get printed\")\n",
    "func_decorator()"
   ]
  },
  {
   "cell_type": "code",
   "execution_count": null,
   "metadata": {},
   "outputs": [],
   "source": [
    "\"\"\"\n",
    "8)\n",
    "Learn about What is FRONT END and its Technologies and Tools\n",
    "Make sure to mention at least 5 top notch technologies of Frontend.\n",
    "Also mentioned the name of companies using those 5 technologies individually\n",
    " \n",
    "\n",
    "\"\"\"\n",
    "\n",
    "It a set of technologies that are used in developing the user interface of web applications and webpages. \n",
    "With the help of front end technologies, the developers create the design, structure, animation, behavior, \n",
    "and everything that you see on the screen while you open a web application, website or mobile app.\n",
    "\n",
    "Top technologies with companies:\n",
    "Vue.js---->  Google, Apple,Trivago\n",
    "Bootstrap-->twitter,udemy,coursera,intel.\n",
    "Angular---->Apple, Adobe, GoPro\n",
    "Flux-------> Facebook\n",
    "GraphQL---->Facebook,Instagram,Twitter."
   ]
  }
 ],
 "metadata": {
  "kernelspec": {
   "display_name": "Python 3",
   "language": "python",
   "name": "python3"
  },
  "language_info": {
   "codemirror_mode": {
    "name": "ipython",
    "version": 3
   },
   "file_extension": ".py",
   "mimetype": "text/x-python",
   "name": "python",
   "nbconvert_exporter": "python",
   "pygments_lexer": "ipython3",
   "version": "3.6.5"
  }
 },
 "nbformat": 4,
 "nbformat_minor": 2
}
